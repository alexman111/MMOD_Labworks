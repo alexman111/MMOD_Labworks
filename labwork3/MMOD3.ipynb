{
  "nbformat": 4,
  "nbformat_minor": 0,
  "metadata": {
    "colab": {
      "name": "MMOD3",
      "provenance": [],
      "collapsed_sections": []
    },
    "kernelspec": {
      "name": "python3",
      "display_name": "Python 3"
    },
    "language_info": {
      "name": "python"
    }
  },
  "cells": [
    {
      "cell_type": "markdown",
      "metadata": {
        "id": "3QCpI-rzKind"
      },
      "source": [
        "# Кривошеев Александр 853501. ММОД. Лабораторная работа 3. Вариант 13"
      ]
    },
    {
      "cell_type": "code",
      "metadata": {
        "id": "p2e5iw0HKoWY"
      },
      "source": [
        "import numpy as np\n",
        "from math import log, factorial, exp\n",
        "import matplotlib.pyplot as plt\n",
        "\n",
        "\n",
        "class QueueSystem:\n",
        "\n",
        "    def __init__(self):\n",
        "        self.lambda_ = 0.1\n",
        "        self.time = 0\n",
        "        self.forward_count = 0\n",
        "        self.backward_count = 0\n",
        "        self.state = 0\n",
        "        self.in_time = []\n",
        "        self.out_time = []\n",
        "        self.states = []\n",
        "        self.state_times = []\n",
        "\n",
        "    def mu(self, tau):\n",
        "        #return self.lambda_ + 0.1\n",
        "        return  27 * ((tau / 60) ** 2) / (2 ** 10) * exp(-(tau / 60) * 3 / 8)\n",
        "\n",
        "    def get_time_interval(self, intensity):\n",
        "        if intensity != 0:\n",
        "            return -1 / intensity * log(np.random.uniform(0, 1))\n",
        "        return np.inf\n",
        "\n",
        "\n",
        "    def iterate(self):\n",
        "        self.states.append(self.state)\n",
        "        self.state_times.append(self.time)\n",
        "        \n",
        "        t_back = self.get_time_interval(self.mu(self.time))\n",
        "        t_for = self.get_time_interval(self.lambda_)\n",
        "        if t_back <= t_for and self.state > 0:\n",
        "            self.backward_count += 1\n",
        "            self.time += t_back  \n",
        "            self.out_time.append(self.time)\n",
        "            self.state -= 1\n",
        "        else:\n",
        "            self.forward_count += 1\n",
        "            self.time += t_for\n",
        "            self.in_time.append(self.time)\n",
        "            self.state += 1\n",
        "        \n",
        "       \n",
        "\n",
        "    def ro(self):\n",
        "        lambda_sum = 0\n",
        "        mu_sum = 0\n",
        "        for t in self.state_times:\n",
        "            lambda_sum += self.lambda_\n",
        "            mu_sum += self.mu(t)\n",
        "        return lambda_sum / mu_sum\n",
        "\n",
        "    def emp_avg_orders_in_system(self):\n",
        "        return np.mean(self.states)\n",
        "\n",
        "    def emp_avg_orders_in_queue(self):\n",
        "        current_queue = [max(0, state - 1) for state in self.states]\n",
        "        return np.mean(current_queue)\n",
        "\n",
        "    def emp_avg_time_in_system(self):\n",
        "        return np.mean([self.out_time[i] - self.in_time[i] for i in range(len(self.out_time))])\n",
        "\n",
        "    def emp_avg_time_in_queue(self):\n",
        "        return self.emp_avg_orders_in_queue() / self.lambda_\n",
        "\n",
        "    def theor_avg_orders_in_queue(self):\n",
        "        ro_ = self.ro()\n",
        "        if ro_ >= 1:\n",
        "          return np.inf\n",
        "        return ro_ ** 2 / (1 - ro_)\n",
        "    \n",
        "    def theor_avg_orders_in_system(self):\n",
        "        ro_ = self.ro()\n",
        "        if ro_ >= 1:\n",
        "          return np.inf\n",
        "        return ro_ / (1 - ro_)\n",
        "    \n",
        "    def theor_avg_time_in_queue(self):\n",
        "        return self.theor_avg_orders_in_queue() / self.lambda_\n",
        "    \n",
        "    def theor_avg_time_in_system(self):\n",
        "        return self.theor_avg_orders_in_system() / self.lambda_\n",
        "    \n",
        "\n",
        "    \n",
        "\n",
        "    \n"
      ],
      "execution_count": null,
      "outputs": []
    },
    {
      "cell_type": "code",
      "metadata": {
        "colab": {
          "base_uri": "https://localhost:8080/",
          "height": 449
        },
        "id": "mlYDIAK6K0lr",
        "outputId": "4874dc28-aca0-4827-a7ee-46790f8b0b82"
      },
      "source": [
        "qs = QueueSystem()\n",
        "volume = 1000\n",
        "for _ in range(volume):\n",
        "    qs.iterate()\n",
        "\n",
        "#print(qs.ro())\n",
        "print(qs.forward_count)\n",
        "print(qs.backward_count)\n",
        "print(\"Эмпирическое среднее число заказов в системе: \", qs.emp_avg_orders_in_system())\n",
        "print(\"Теоритическое среднее число заказов в системе: \", qs.theor_avg_orders_in_system())\n",
        "print(\"Эмпирическое среднее число заказов в очереди: \", qs.emp_avg_orders_in_queue())\n",
        "print(\"Теоритическое среднее число заказов в очереди: \", qs.theor_avg_orders_in_queue())\n",
        "print(\"Эмпирическое среднее время заказа в системе: \", qs.emp_avg_time_in_system())\n",
        "print(\"Теоритическое среднее время заказа в системе: \", qs.theor_avg_time_in_system())\n",
        "print(\"Эмпирическое среднее время заказа в очереди: \", qs.emp_avg_time_in_queue())\n",
        "print(\"Теоритическое среднее время заказа в очереди: \", qs.theor_avg_time_in_queue())\n",
        "\n",
        "plt.plot(qs.state_times[::volume // 100], qs.states[::volume // 100])\n",
        "plt.title('Состояние системы в моменты времени')\n",
        "plt.show()\n"
      ],
      "execution_count": null,
      "outputs": [
        {
          "output_type": "stream",
          "name": "stdout",
          "text": [
            "500\n",
            "500\n",
            "Эмпирическое среднее число заказов в системе:  1.338\n",
            "Теоритическое среднее число заказов в системе:  1.0\n",
            "Эмпирическое среднее число заказов в очереди:  0.61\n",
            "Теоритическое среднее число заказов в очереди:  0.5\n",
            "Эмпирическое среднее время заказа в системе:  9.240941176670324\n",
            "Теоритическое среднее время заказа в системе:  10.0\n",
            "Эмпирическое среднее время заказа в очереди:  6.1\n",
            "Теоритическое среднее время заказа в очереди:  5.0\n"
          ]
        },
        {
          "output_type": "display_data",
          "data": {
            "image/png": "[encoded data removed]",
            "text/plain": [
              "<Figure size 432x288 with 1 Axes>"
            ]
          },
          "metadata": {
            "needs_background": "light"
          }
        }
      ]
    }
  ]
}